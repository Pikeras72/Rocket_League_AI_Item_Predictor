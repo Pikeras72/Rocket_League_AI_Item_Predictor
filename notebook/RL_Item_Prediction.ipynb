{
  "nbformat": 4,
  "nbformat_minor": 0,
  "metadata": {
    "colab": {
      "provenance": [],
      "gpuType": "T4",
      "authorship_tag": "ABX9TyOZhsKoqmL9U7KtfM/xJgQM",
      "include_colab_link": true
    },
    "kernelspec": {
      "name": "python3",
      "display_name": "Python 3"
    },
    "language_info": {
      "name": "python"
    },
    "accelerator": "GPU"
  },
  "cells": [
    {
      "cell_type": "markdown",
      "metadata": {
        "id": "view-in-github",
        "colab_type": "text"
      },
      "source": [
        "<a href=\"https://colab.research.google.com/github/Pikeras72/Rocket_League_AI_Item_Predictor/blob/main/notebook/RL_Item_Prediction.ipynb\" target=\"_parent\"><img src=\"https://colab.research.google.com/assets/colab-badge.svg\" alt=\"Open In Colab\"/></a>"
      ]
    },
    {
      "cell_type": "markdown",
      "source": [
        "# Rocket League - AI Item Predictor\n",
        "\n",
        "In this notebook you will be able to ask the model for a prediction of any rocket league item in the game.\n",
        "\n",
        "Will it guess correctly...? **Let's find out!**\n",
        "\n",
        "(It has difficulties when classifying bodies, trails and borders. Modify el dataset. Improve the prediction visualization. Ej: this image is a border with a 74.3% accuracy and is a wheel with a 24.9%)\n",
        "\n",
        "Made by ***Diego Ruiz Piqueras***"
      ],
      "metadata": {
        "id": "Q_mPRKDkvRKu"
      }
    },
    {
      "cell_type": "markdown",
      "source": [
        "# Preparing the dataset"
      ],
      "metadata": {
        "id": "mTr11wDXQ3KE"
      }
    },
    {
      "cell_type": "markdown",
      "source": [
        "First step is to have the required data in order to train or model.\n",
        "\n",
        "We will start by obtaining the **Rocket League items dataset** and unzipping it into the '/content/' folder."
      ],
      "metadata": {
        "id": "pUQ1OBtpzA9v"
      }
    },
    {
      "cell_type": "code",
      "source": [
        "import tensorflow as tf\n",
        "import gdown\n",
        "\n",
        "# URL to download the Google Drive file containing the dataset (RL_items.zip)\n",
        "url = \"https://drive.google.com/uc?id=1bh1OKTQvt7t5z48vGbxhnNtl0eMXOpwW\"\n",
        "output = \"RL_items.zip\"\n",
        "gdown.download(url, output, quiet=False)\n",
        "\n",
        "# Unzip the zip file in the /content/ folder\n",
        "import zipfile\n",
        "with zipfile.ZipFile(\"RL_items.zip\", \"r\") as zip_ref:\n",
        "    zip_ref.extractall(\"/content/\")\n",
        "\n",
        "print(\"Dataset correctly downloaded and unzipped!\")"
      ],
      "metadata": {
        "id": "a-NwjCXC_Mex"
      },
      "execution_count": null,
      "outputs": []
    },
    {
      "cell_type": "markdown",
      "source": [
        "Now that we have our dataset unziped and located, we will **assign the directory names** of each folder **as the variable's labels inside those directories.**\n",
        "\n",
        "In other words, all the images in the wheels directory will be labeled as wheels, all the images in the bodies directory will be labeled as bodies, etc. We have to do this for both training and testing directories."
      ],
      "metadata": {
        "id": "hjQFoQ84ysyu"
      }
    },
    {
      "cell_type": "code",
      "source": [
        "import os\n",
        "\n",
        "base_dir = '/content/RL_items/train'\n",
        "\n",
        "labels = [\"antennas\", \"anthems\", \"banners\", \"bodies\", \"boosts\", \"borders\", \"decals\", \"explosions\", \"paints\", \"toppers\", \"trails\", \"wheels\"]\n",
        "\n",
        "# We get all the directories of every item inside the training directory\n",
        "antennas_dir = os.path.join(base_dir, labels[0])\n",
        "anthems_dir = os.path.join(base_dir, labels[1])\n",
        "banners_dir = os.path.join(base_dir, labels[2])\n",
        "bodies_dir = os.path.join(base_dir, labels[3])\n",
        "boosts_dir = os.path.join(base_dir, labels[4])\n",
        "borders_dir = os.path.join(base_dir, labels[5])\n",
        "decals_dir = os.path.join(base_dir, labels[6])\n",
        "explosions_dir = os.path.join(base_dir, labels[7])\n",
        "paints_dir = os.path.join(base_dir, labels[8])\n",
        "toppers_dir = os.path.join(base_dir, labels[9])\n",
        "trails_dir = os.path.join(base_dir, labels[10])\n",
        "wheels_dir = os.path.join(base_dir, labels[11])\n",
        "\n",
        "# We calculate the total number of elements inside the training directory\n",
        "total_num = len(os.listdir(antennas_dir))+len(os.listdir(anthems_dir))+len(os.listdir(banners_dir))+len(os.listdir(bodies_dir))+len(os.listdir(boosts_dir))+len(os.listdir(borders_dir))+len(os.listdir(decals_dir))+len(os.listdir(explosions_dir))+len(os.listdir(paints_dir))+len(os.listdir(toppers_dir))+len(os.listdir(trails_dir))+len(os.listdir(wheels_dir))\n",
        "\n",
        "# We print the number of elements in each subdirectory\n",
        "print('total training images:', total_num,\"\\n\")\n",
        "print('total training antennas images:', len(os.listdir(antennas_dir)))\n",
        "print('total training anthems images:', len(os.listdir(anthems_dir)))\n",
        "print('total training banners images:', len(os.listdir(banners_dir)))\n",
        "print('total training bodies images:', len(os.listdir(bodies_dir)))\n",
        "print('total training boosts images:', len(os.listdir(boosts_dir)))\n",
        "print('total training borders images:', len(os.listdir(borders_dir)))\n",
        "print('total training decals images:', len(os.listdir(decals_dir)))\n",
        "print('total training explosions images:', len(os.listdir(explosions_dir)))\n",
        "print('total training paints images:', len(os.listdir(paints_dir)))\n",
        "print('total training toppers images:', len(os.listdir(toppers_dir)))\n",
        "print('total training trails images:', len(os.listdir(trails_dir)))\n",
        "print('total training wheels images:', len(os.listdir(wheels_dir)))\n",
        "\n",
        "# Here we obtain a list containing the names of the entries for each directory.\n",
        "antennas_files = os.listdir(antennas_dir)\n",
        "anthems_files = os.listdir(anthems_dir)\n",
        "banners_files = os.listdir(banners_dir)\n",
        "bodies_files = os.listdir(bodies_dir)\n",
        "boosts_files = os.listdir(boosts_dir)\n",
        "borders_files = os.listdir(borders_dir)\n",
        "decals_files = os.listdir(decals_dir)\n",
        "explosions_files = os.listdir(explosions_dir)\n",
        "paints_files = os.listdir(paints_dir)\n",
        "toppers_files = os.listdir(toppers_dir)\n",
        "trails_files = os.listdir(trails_dir)\n",
        "wheels_files = os.listdir(wheels_dir)"
      ],
      "metadata": {
        "id": "RSBd8OQey-GS"
      },
      "execution_count": null,
      "outputs": []
    },
    {
      "cell_type": "markdown",
      "source": [
        "Expected output:\n",
        "\n",
        "\n",
        "\n",
        "```\n",
        "total training images: 2992\n",
        "\n",
        "total training antennas images: 499\n",
        "total training anthems images: 53\n",
        "total training banners images: 297\n",
        "total training bodies images: 107\n",
        "total training boosts images: 207\n",
        "total training borders images: 83\n",
        "total training decals images: 639\n",
        "total training explosions images: 90\n",
        "total training paints images: 66\n",
        "total training toppers images: 349\n",
        "total training trails images: 64\n",
        "total training wheels images: 538\n",
        "```\n",
        "\n"
      ],
      "metadata": {
        "id": "T5YnIqFfPkG2"
      }
    },
    {
      "cell_type": "markdown",
      "source": [
        "**Completed!**\n",
        "\n",
        "Now that we have all the elements in lists, we'll look at some examples of what some images look like:"
      ],
      "metadata": {
        "id": "yc8FcEud2Vc9"
      }
    },
    {
      "cell_type": "code",
      "source": [
        "%matplotlib inline\n",
        "from random import seed\n",
        "from random import randint\n",
        "import matplotlib.pyplot as plt\n",
        "from PIL import Image\n",
        "\n",
        "nrows = 4\n",
        "ncols = 6\n",
        "\n",
        "# Between 0 and 53 in order to show 'anthems' images in every execution\n",
        "index = randint(0,53)\n",
        "\n",
        "# We pick 2 images for each type of item and we show them with matplotlib.pyplot\n",
        "next_antennas = [os.path.join(antennas_dir, fname) for fname in antennas_files[index-2:index]]\n",
        "\n",
        "next_anthems = [os.path.join(anthems_dir, fname) for fname in anthems_files[index-2:index]]\n",
        "\n",
        "next_banners = [os.path.join(banners_dir, fname) for fname in banners_files[index-2:index]]\n",
        "\n",
        "next_bodies = [os.path.join(bodies_dir, fname) for fname in bodies_files[index-2:index]]\n",
        "\n",
        "next_boosts = [os.path.join(boosts_dir, fname) for fname in boosts_files[index-2:index]]\n",
        "\n",
        "next_borders = [os.path.join(borders_dir, fname) for fname in borders_files[index-2:index]]\n",
        "\n",
        "next_decals = [os.path.join(decals_dir, fname) for fname in decals_files[index-2:index]]\n",
        "\n",
        "next_explosions = [os.path.join(explosions_dir, fname) for fname in explosions_files[index-2:index]]\n",
        "\n",
        "next_paints = [os.path.join(paints_dir, fname) for fname in paints_files[index-2:index]]\n",
        "\n",
        "next_toppers = [os.path.join(toppers_dir, fname) for fname in toppers_files[index-2:index]]\n",
        "\n",
        "next_trails = [os.path.join(trails_dir, fname) for fname in trails_files[index-2:index]]\n",
        "\n",
        "next_wheels = [os.path.join(wheels_dir, fname) for fname in wheels_files[index-2:index]]\n",
        "\n",
        "for i, img_path in enumerate(next_antennas + next_anthems + next_banners + next_bodies + next_boosts + next_borders + next_decals + next_explosions + next_paints + next_toppers + next_trails + next_wheels):\n",
        "    ax = plt.subplot(nrows, ncols, i + 1)\n",
        "    img = Image.open(img_path)\n",
        "    plt.imshow(img)\n",
        "    ax.axis('off')  # Hide axis\n",
        "\n",
        "plt.show()"
      ],
      "metadata": {
        "id": "moESC4hY2ZzW"
      },
      "execution_count": null,
      "outputs": []
    },
    {
      "cell_type": "markdown",
      "source": [
        "It is important to know that all the images in the dataset are **colored 220x220px** images."
      ],
      "metadata": {
        "id": "dbpmLKG-v3WB"
      }
    },
    {
      "cell_type": "markdown",
      "source": [
        "# You want to do it by yourself? Skip this section and start building!\n",
        "\n",
        "If you just want a quick view of how it works, here I will show you a model that have been already trained with aproximately **89% accuracy**.\n",
        "\n",
        "Give it a try!"
      ],
      "metadata": {
        "id": "lOwotflhVYP5"
      }
    },
    {
      "cell_type": "code",
      "source": [
        "# URL to download the Google Drive file containing the model (RL_item_predictor_model.keras)\n",
        "url = \"https://drive.google.com/uc?id=14LV1DmHLrgwXZCOCV18XfGf5hte0zNlR\"\n",
        "output = \"/content/Loaded_model.keras\"\n",
        "gdown.download(url, output, quiet=False)\n",
        "print(\"\\nModel correctly downloaded!\")"
      ],
      "metadata": {
        "id": "gP49GT_gWBaT"
      },
      "execution_count": null,
      "outputs": []
    },
    {
      "cell_type": "code",
      "source": [
        "import numpy as np\n",
        "from google.colab import files\n",
        "from keras.utils import load_img, img_to_array\n",
        "\n",
        "# Load the model\n",
        "loaded_model = tf.keras.saving.load_model(output)\n",
        "\n",
        "# Check the structure of the model!\n",
        "loaded_model.summary()"
      ],
      "metadata": {
        "id": "EZ5r6rrx6o68"
      },
      "execution_count": null,
      "outputs": []
    },
    {
      "cell_type": "markdown",
      "source": [
        "Now that we can see how the model looks like, we can **ask for predictions**!\n",
        "\n",
        "By running this next block you will be able to upload images from your computer and see how the model classifies them.\n",
        "\n",
        "**Give it a try!**"
      ],
      "metadata": {
        "id": "_I1bHpvT9OYT"
      }
    },
    {
      "cell_type": "code",
      "source": [
        "uploaded = files.upload()\n",
        "\n",
        "for fn in uploaded.keys():\n",
        "\n",
        "  # Predicting images\n",
        "  path = fn\n",
        "  img = load_img(path, target_size=(220, 220))\n",
        "  x = img_to_array(img)\n",
        "  x = np.expand_dims(x, axis=0)\n",
        "  images = np.vstack([x])\n",
        "  classes = loaded_model.predict(images, batch_size=10)\n",
        "  predicted_class_index = np.argmax(classes)\n",
        "  print(fn)\n",
        "  print('This image is in: ['+ labels[predicted_class_index] +'] with a 89% accuracy')"
      ],
      "metadata": {
        "id": "5iQu7l1x9L3q"
      },
      "execution_count": null,
      "outputs": []
    },
    {
      "cell_type": "markdown",
      "source": [
        "# Build the model by yourself\n",
        "\n",
        "**Time to shine!**\n",
        "\n",
        "This is the CNN model I have made. But you can try to change it, I am sure you can improve it!"
      ],
      "metadata": {
        "id": "oB6E6cwgeECV"
      }
    },
    {
      "cell_type": "code",
      "source": [
        "from keras import layers, models\n",
        "\n",
        "model = models.Sequential()\n",
        "\n",
        "# Convolution and MaxPooling layers\n",
        "model.add(layers.Conv2D(32, (3, 3), activation='relu', input_shape=(220, 220, 3)))\n",
        "model.add(layers.MaxPooling2D((2, 2)))\n",
        "model.add(layers.Conv2D(64, (3, 3), activation='relu'))\n",
        "model.add(layers.MaxPooling2D((2, 2)))\n",
        "model.add(layers.Conv2D(128, (3, 3), activation='relu'))\n",
        "model.add(layers.MaxPooling2D((2, 2)))\n",
        "model.add(layers.Conv2D(128, (3, 3), activation='relu'))\n",
        "model.add(layers.MaxPooling2D((2, 2)))\n",
        "\n",
        "# Flatten layer\n",
        "model.add(layers.Flatten())\n",
        "\n",
        "# Dropout layer\n",
        "model.add(layers.Dropout(0.5))\n",
        "\n",
        "# Dense layers\n",
        "model.add(layers.Dense(512, activation='relu'))\n",
        "# As there are 12 different types of items in Rocket League, the last Dense layer contains 12 units and Softmax activation\n",
        "model.add(layers.Dense(12, activation='softmax'))\n",
        "\n",
        "# Print the model summary\n",
        "model.summary()"
      ],
      "metadata": {
        "id": "hCQ-YfD8eMV9"
      },
      "execution_count": null,
      "outputs": []
    },
    {
      "cell_type": "markdown",
      "source": [
        "#Image generator"
      ],
      "metadata": {
        "id": "iLQENSKpejGM"
      }
    },
    {
      "cell_type": "markdown",
      "source": [
        "We want to expand our dataset with **augmented data**. Rotating, moving the images from place to place or even fliping them.\n",
        "\n",
        "But just for the images in the **training set**! We do not want to touch the validation ones.\n"
      ],
      "metadata": {
        "id": "yLEygOaPXIit"
      }
    },
    {
      "cell_type": "code",
      "source": [
        "from keras.preprocessing.image import ImageDataGenerator\n",
        "\n",
        "BATCH_SIZE = 64\n",
        "\n",
        "TRAINING_DIR = \"/content/RL_items/train\"\n",
        "training_datagen = ImageDataGenerator(\n",
        "      rescale = 1./255,\n",
        "\t    rotation_range=40,\n",
        "      width_shift_range=0.2,\n",
        "      height_shift_range=0.2,\n",
        "      shear_range=0.2,\n",
        "      zoom_range=0.2,\n",
        "      horizontal_flip=True,\n",
        "      fill_mode='nearest')\n",
        "\n",
        "VALIDATION_DIR = \"/content/RL_items/test\"\n",
        "validation_datagen = ImageDataGenerator(rescale = 1./255)\n",
        "\n",
        "# 'class_mode' is set to categorical as we have 12 different type of items\n",
        "train_generator = training_datagen.flow_from_directory(\n",
        "\tTRAINING_DIR,\n",
        "\ttarget_size=(220,220),\n",
        "\tclass_mode='categorical',\n",
        "  batch_size=BATCH_SIZE\n",
        ")\n",
        "\n",
        "# 'class_mode' is set to categorical as we have 12 different type of items\n",
        "validation_generator = validation_datagen.flow_from_directory(\n",
        "\tVALIDATION_DIR,\n",
        "\ttarget_size=(220,220),\n",
        "\tclass_mode='categorical',\n",
        "  batch_size=BATCH_SIZE\n",
        ")"
      ],
      "metadata": {
        "id": "E9zCdaWHe4rs"
      },
      "execution_count": null,
      "outputs": []
    },
    {
      "cell_type": "markdown",
      "source": [
        "Expected output:\n",
        "\n",
        "\n",
        "```\n",
        "Found 2992 images belonging to 12 classes.\n",
        "Found 1036 images belonging to 12 classes.\n",
        "```\n",
        "\n"
      ],
      "metadata": {
        "id": "OICesarlR-NJ"
      }
    },
    {
      "cell_type": "markdown",
      "source": [
        "#Compile the model"
      ],
      "metadata": {
        "id": "1vrns0b90L_K"
      }
    },
    {
      "cell_type": "markdown",
      "source": [
        "We are approaching the final steps and now is turn to compile the model.\n",
        "\n",
        "Remember you can try to change **the optimizer** and **the learning rate**!"
      ],
      "metadata": {
        "id": "AFITOwLOeZLI"
      }
    },
    {
      "cell_type": "code",
      "source": [
        "# loss function is set to 'categorical_crossentropy' as we have 12 different type of items\n",
        "model.compile(loss = 'categorical_crossentropy',\n",
        "              optimizer=tf.keras.optimizers.Adam(learning_rate=0.001),\n",
        "              metrics=['accuracy'])"
      ],
      "metadata": {
        "id": "XCRA6NVWegA0"
      },
      "execution_count": null,
      "outputs": []
    },
    {
      "cell_type": "markdown",
      "source": [
        "# Training\n",
        "\n",
        "Finally, now it is time to train the model! *(my favourite part)*\n",
        "\n",
        "I will train it for **30 epochs**.\n",
        "\n",
        "The **'steps_per_epoch'** is assigned to: Number of training images//BATCH_SIZE\n",
        "\n",
        "The **'validation_steps'** is assigned to: Number of validating images//BATCH_SIZE"
      ],
      "metadata": {
        "id": "yUNSY3N2fTsc"
      }
    },
    {
      "cell_type": "code",
      "source": [
        "history = model.fit(train_generator,\n",
        "                    epochs= 30,\n",
        "                    steps_per_epoch= 2992//BATCH_SIZE,\n",
        "                    validation_data= validation_generator,\n",
        "                    validation_steps= 1036//BATCH_SIZE)"
      ],
      "metadata": {
        "id": "4WX3W5a2fYG8"
      },
      "execution_count": null,
      "outputs": []
    },
    {
      "cell_type": "markdown",
      "source": [
        "# Results\n",
        "It may have been a long time but our model has been successfully trained. Now let's see how good (or bad) our model is."
      ],
      "metadata": {
        "id": "1qCYKDzlViVW"
      }
    },
    {
      "cell_type": "code",
      "source": [
        "# Plot the results\n",
        "acc = history.history['accuracy']\n",
        "val_acc = history.history['val_accuracy']\n",
        "loss = history.history['loss']\n",
        "val_loss = history.history['val_loss']\n",
        "\n",
        "epochs = range(len(acc))\n",
        "\n",
        "plt.plot(epochs, acc, 'r', label='Training accuracy')\n",
        "plt.plot(epochs, val_acc, 'b', label='Validation accuracy')\n",
        "plt.title('Training and validation accuracy')\n",
        "plt.legend(loc=0)\n",
        "plt.figure()\n",
        "\n",
        "plt.show()\n",
        "\n",
        "plt.plot(epochs, loss, 'r', label='Training loss')\n",
        "plt.plot(epochs, val_loss, 'b', label='Validation loss')\n",
        "plt.title('Training and validation loss')\n",
        "plt.legend(loc=0)\n",
        "plt.figure()\n",
        "\n",
        "plt.show()"
      ],
      "metadata": {
        "id": "pFgDx1TCfiSd"
      },
      "execution_count": null,
      "outputs": []
    },
    {
      "cell_type": "markdown",
      "source": [
        "Expected output with the default parameters:\n",
        "\n",
        "![resultados4.PNG](data:image/png;base64,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)\n",
        "\n",
        "![resultadosloss4.PNG](data:image/png;base64,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)"
      ],
      "metadata": {
        "id": "wnQJ2kPP4wwH"
      }
    },
    {
      "cell_type": "markdown",
      "source": [
        "Did your model work well??\n",
        "\n",
        "If you think this model is good enough you can proceed and save it for future predictions."
      ],
      "metadata": {
        "id": "OR2rqOaYV4ym"
      }
    },
    {
      "cell_type": "code",
      "source": [
        "# It is important to save the model in case of error in the notebook\n",
        "model.save(\"/content/RL_item_predictor_model.keras\")"
      ],
      "metadata": {
        "id": "G51Dxc7p4Wl1"
      },
      "execution_count": null,
      "outputs": []
    },
    {
      "cell_type": "markdown",
      "source": [
        "# Prediction time"
      ],
      "metadata": {
        "id": "IjJSIk7DWJ4D"
      }
    },
    {
      "cell_type": "markdown",
      "source": [
        "Now we can test our model and see how it performs.\n",
        "\n",
        "By running this next block you will be able to upload images from your computer and see how the model classifies them.\n",
        "\n",
        "**Give it a try!**"
      ],
      "metadata": {
        "id": "8AvHBXJ3WNJq"
      }
    },
    {
      "cell_type": "code",
      "source": [
        "import numpy as np\n",
        "from google.colab import files\n",
        "from keras.utils import load_img, img_to_array\n",
        "\n",
        "uploaded = files.upload()\n",
        "\n",
        "for fn in uploaded.keys():\n",
        "\n",
        "  # Predicting images\n",
        "  path = fn\n",
        "  img = load_img(path, target_size=(220, 220))\n",
        "  x = img_to_array(img)\n",
        "  x = np.expand_dims(x, axis=0)\n",
        "  images = np.vstack([x])\n",
        "  classes = model.predict(images, batch_size=10)\n",
        "  print(fn)\n",
        "  print(classes)"
      ],
      "metadata": {
        "id": "nwl-WoCcg-Sl"
      },
      "execution_count": null,
      "outputs": []
    }
  ]
}